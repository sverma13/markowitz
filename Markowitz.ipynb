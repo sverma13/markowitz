{
 "cells": [
  {
   "cell_type": "markdown",
   "metadata": {},
   "source": [
    "Load libraries."
   ]
  },
  {
   "cell_type": "code",
   "execution_count": 1,
   "metadata": {},
   "outputs": [],
   "source": [
    "# Data analysis libraries\n",
    "import pandas as pd\n",
    "import numpy as np\n",
    "\n",
    "# Data visualization libraries\n",
    "import matplotlib.pyplot as plt\n",
    "import seaborn as sns"
   ]
  },
  {
   "cell_type": "markdown",
   "metadata": {},
   "source": [
    "Function definition: create a column of a stock's daily returns"
   ]
  },
  {
   "cell_type": "code",
   "execution_count": 2,
   "metadata": {},
   "outputs": [],
   "source": [
    "def stockReturnCol(ticker):\n",
    "    ticker = ticker + '.csv'\n",
    "    data = pd.read_csv(ticker, parse_dates=['Date'])  # import historical data in pandas dataframe\n",
    "    data = data.sort_values(by='Date')\n",
    "    data.set_index('Date', inplace=True)\n",
    "\n",
    "    data['Returns'] = data['Adj Close'].pct_change()  # create a column of daily returns\n",
    "    stock_returns = data['Returns'].dropna()  # remove entries with N/A dat\n",
    "    return stock_returns"
   ]
  },
  {
   "cell_type": "markdown",
   "metadata": {},
   "source": [
    "Function definition: generate multiple random portfolios, and calculate each portfolio's overall return and volatility"
   ]
  },
  {
   "cell_type": "code",
   "execution_count": 3,
   "metadata": {},
   "outputs": [],
   "source": [
    "def randomPortfolios(num_portfolios, mean_returns, cov_matrix, risk_free_rate):\n",
    "    results = np.zeros((3, num_portfolios))\n",
    "    weights_record = []\n",
    "    for i in range(num_portfolios):\n",
    "        weights = np.random.random_sample(len(stock_port))\n",
    "        weights /= np.sum(weights)\n",
    "        weights_record.append(weights)\n",
    "        portfolio_return = np.sum(mean_returns * weights) * 252\n",
    "        portfolio_std_dev = np.sqrt(np.dot(weights.T, np.dot(cov_matrix, weights))) * np.sqrt(252)\n",
    "        results[0, i] = portfolio_std_dev\n",
    "        results[1, i] = portfolio_return\n",
    "        results[2, i] = (portfolio_return - risk_free_rate) / portfolio_std_dev\n",
    "    return results, weights_record"
   ]
  },
  {
   "cell_type": "markdown",
   "metadata": {},
   "source": [
    "Define securities in portfolio"
   ]
  },
  {
   "cell_type": "code",
   "execution_count": 4,
   "metadata": {},
   "outputs": [],
   "source": [
    "stock_port = ['SCHX', 'SCHM', 'SCHA', 'SCHF']"
   ]
  },
  {
   "cell_type": "markdown",
   "metadata": {},
   "source": [
    "Initialize DataFrame of daily stock returns for each security in portfolio"
   ]
  },
  {
   "cell_type": "code",
   "execution_count": 5,
   "metadata": {},
   "outputs": [],
   "source": [
    "stock_ret_mat = pd.DataFrame(columns=stock_port)"
   ]
  },
  {
   "cell_type": "markdown",
   "metadata": {},
   "source": [
    "For each stock in the portfolio, generate a column of its daily returns and store it in the stock return matrix"
   ]
  },
  {
   "cell_type": "code",
   "execution_count": 6,
   "metadata": {},
   "outputs": [],
   "source": [
    "for stock in stock_port:\n",
    "    stock_ret_mat[stock] = stockReturnCol(stock)"
   ]
  },
  {
   "cell_type": "markdown",
   "metadata": {},
   "source": [
    "Generate a correlation matrix of the stock returns using the Pearson method"
   ]
  },
  {
   "cell_type": "code",
   "execution_count": 7,
   "metadata": {},
   "outputs": [],
   "source": [
    "corr_matrix = stock_ret_mat.corr(method='pearson')"
   ]
  },
  {
   "cell_type": "markdown",
   "metadata": {},
   "source": [
    "Define inputs for RandomPortfolio function"
   ]
  },
  {
   "cell_type": "code",
   "execution_count": 8,
   "metadata": {},
   "outputs": [],
   "source": [
    "returns = stock_ret_mat  # matrix, 250 daily returns for each stock\n",
    "mean_returns = returns.mean()  # array, 1 average return for each stock\n",
    "cov_matrix = returns.cov()  # square matrix of each stock\n",
    "NUM_PORTFOLIOS = 10000\n",
    "RISK_FREE_RATE = 0.0152  # US Treasury, 52-week value start of 2020"
   ]
  },
  {
   "cell_type": "markdown",
   "metadata": {},
   "source": [
    "Run RandomPortfolio function"
   ]
  },
  {
   "cell_type": "code",
   "execution_count": 9,
   "metadata": {},
   "outputs": [],
   "source": [
    "results, weights = randomPortfolios(NUM_PORTFOLIOS, mean_returns, cov_matrix, RISK_FREE_RATE)"
   ]
  },
  {
   "cell_type": "markdown",
   "metadata": {},
   "source": [
    "Determine Max Sharpe Ratio (MSR) portfolio allocation"
   ]
  },
  {
   "cell_type": "code",
   "execution_count": 10,
   "metadata": {},
   "outputs": [
    {
     "name": "stdout",
     "output_type": "stream",
     "text": [
      "MSR volatility: 0.1327\n",
      "MSR return: 0.1172\n"
     ]
    }
   ],
   "source": [
    "msr_index = np.argmax(results[2])\n",
    "std_sharpe = results[0, msr_index]\n",
    "return_sharpe = results[1, msr_index]\n",
    "print('MSR volatility: %0.4f' % std_sharpe)\n",
    "print('MSR return: %0.4f' % return_sharpe)\n",
    "msr_array = weights[msr_index].round(4)\n",
    "msr_alloc = pd.DataFrame(msr_array, index=stock_port, columns=['Allocation'])"
   ]
  },
  {
   "cell_type": "markdown",
   "metadata": {},
   "source": [
    "Show bar graph of MSR portfolio allocation"
   ]
  },
  {
   "cell_type": "code",
   "execution_count": 11,
   "metadata": {},
   "outputs": [
    {
     "data": {
      "image/png": "[encoded data removed]",
      "text/plain": [
       "<Figure size 432x288 with 1 Axes>"
      ]
     },
     "metadata": {
      "needs_background": "light"
     },
     "output_type": "display_data"
    }
   ],
   "source": [
    "plt.figure()\n",
    "plt.bar(x=np.arange(len(msr_array)),\n",
    "        height=msr_array,\n",
    "        width=0.5,\n",
    "        align='center',\n",
    "        tick_label=msr_alloc.index)\n",
    "plt.title('Allocation: Max Sharpe Ratio')\n",
    "plt.show()"
   ]
  },
  {
   "cell_type": "markdown",
   "metadata": {},
   "source": [
    "Determine Global Minimum Volatility (GMV) portfolio allocation"
   ]
  },
  {
   "cell_type": "code",
   "execution_count": 12,
   "metadata": {},
   "outputs": [
    {
     "name": "stdout",
     "output_type": "stream",
     "text": [
      "GMV volatility: 0.1300\n",
      "GMV return: 0.1011\n"
     ]
    }
   ],
   "source": [
    "gmv_index = np.argmin(results[0])\n",
    "std_gmv = results[0, gmv_index]\n",
    "print('GMV volatility: %0.4f' % std_gmv)\n",
    "return_gmv = results[1, gmv_index]\n",
    "print('GMV return: %0.4f' % return_gmv)\n",
    "gmv_array = weights[gmv_index].round(4)\n",
    "gmv_alloc = pd.DataFrame(gmv_array, index=stock_port, columns=['Allocation'])"
   ]
  },
  {
   "cell_type": "markdown",
   "metadata": {},
   "source": [
    "Show bar graph of GMV portfolio allocation"
   ]
  },
  {
   "cell_type": "code",
   "execution_count": 13,
   "metadata": {},
   "outputs": [
    {
     "data": {
      "image/png": "[encoded data removed]",
      "text/plain": [
       "<Figure size 432x288 with 1 Axes>"
      ]
     },
     "metadata": {
      "needs_background": "light"
     },
     "output_type": "display_data"
    }
   ],
   "source": [
    "plt.figure()\n",
    "plt.bar(x=np.arange(len(gmv_array)),\n",
    "        height=gmv_array,\n",
    "        width=0.5,\n",
    "        align='center',\n",
    "        tick_label=gmv_alloc.index)\n",
    "plt.title('Allocation: Max Sharpe Ratio')\n",
    "plt.title('Allocation: Global Minimum Volatility')\n",
    "plt.show()"
   ]
  },
  {
   "cell_type": "markdown",
   "metadata": {},
   "source": [
    "Plot efficient frontier and highlight Markowitz portfolios"
   ]
  },
  {
   "cell_type": "code",
   "execution_count": 14,
   "metadata": {},
   "outputs": [
    {
     "data": {
      "image/png": "[encoded data removed]",
      "text/plain": [
       "<Figure size 432x288 with 2 Axes>"
      ]
     },
     "metadata": {
      "needs_background": "light"
     },
     "output_type": "display_data"
    }
   ],
   "source": [
    "plt.figure()\n",
    "plt.scatter(x=results[0, :],\n",
    "            y=results[1, :],\n",
    "            c=results[2, :])\n",
    "plt.colorbar()\n",
    "plt.scatter(x=std_sharpe,\n",
    "            y=return_sharpe,\n",
    "            marker='*',\n",
    "            color='r',\n",
    "            s=500,\n",
    "            label='MSR')\n",
    "plt.scatter(x=std_gmv,\n",
    "            y=return_gmv,\n",
    "            marker='*',\n",
    "            color='g',\n",
    "            s=500,\n",
    "            label='GMV')\n",
    "plt.legend()\n",
    "plt.title('Efficient Fronter - Markowitz Portfolios')\n",
    "plt.xlabel('Volatility')\n",
    "plt.ylabel('Returns')\n",
    "plt.show()"
   ]
  }
 ],
 "metadata": {
  "kernelspec": {
   "display_name": "Python 3",
   "language": "python",
   "name": "python3"
  },
  "language_info": {
   "codemirror_mode": {
    "name": "ipython",
    "version": 3
   },
   "file_extension": ".py",
   "mimetype": "text/x-python",
   "name": "python",
   "nbconvert_exporter": "python",
   "pygments_lexer": "ipython3",
   "version": "3.7.4"
  }
 },
 "nbformat": 4,
 "nbformat_minor": 2
}
